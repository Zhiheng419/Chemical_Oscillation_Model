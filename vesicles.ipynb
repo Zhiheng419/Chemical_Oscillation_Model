{
 "cells": [
  {
   "cell_type": "code",
   "execution_count": 2,
   "metadata": {},
   "outputs": [],
   "source": [
    "import numpy as np \n",
    "import scipy as sp \n",
    "import matplotlib.pyplot as plt\n",
    "import pandas as pd\n",
    "from osc_toolkit import oscillation, delayed_oscillation\n",
    "from models import *\n",
    "from functools import partial\n",
    "from jitcdde import jitcdde, y, t, jitcdde_input\n",
    "import ipywidgets as widgets\n",
    "from matplotlib import patches"
   ]
  },
  {
   "cell_type": "code",
   "execution_count": null,
   "metadata": {},
   "outputs": [
    {
     "name": "stdout",
     "output_type": "stream",
     "text": [
      "Initial cA2: 16.066 mM, H2O2 input rate: 9 mM/h, time unit: 1.785 h\n"
     ]
    }
   ],
   "source": [
    "df_ves_6h_osc = pd.read_csv(r'Data_sets/ves_6h_osc_JACS_ZZ.csv')\n",
    "cA2_tol = df_ves_6h_osc.loc[0, 'cA2'] + df_ves_6h_osc.loc[0, 'cA']/2\n",
    "rext = 9\n",
    "tau = cA2_tol/rext\n",
    "print(f'Initial cA2: {cA2_tol:.3f} mM, H2O2 input rate: {rext} mM/h, time unit: {tau:.3f} h')\n",
    "\n",
    "for col in ['TimeA2', 'TimeS', 'TimeA']:\n",
    "    df_ves_6h_osc[col] /= tau\n",
    "\n"
   ]
  },
  {
   "cell_type": "code",
   "execution_count": null,
   "metadata": {},
   "outputs": [],
   "source": []
  }
 ],
 "metadata": {
  "kernelspec": {
   "display_name": "base",
   "language": "python",
   "name": "python3"
  },
  "language_info": {
   "codemirror_mode": {
    "name": "ipython",
    "version": 3
   },
   "file_extension": ".py",
   "mimetype": "text/x-python",
   "name": "python",
   "nbconvert_exporter": "python",
   "pygments_lexer": "ipython3",
   "version": "3.11.9"
  }
 },
 "nbformat": 4,
 "nbformat_minor": 2
}
