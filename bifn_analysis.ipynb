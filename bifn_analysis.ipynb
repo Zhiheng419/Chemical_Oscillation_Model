{
 "cells": [
  {
   "cell_type": "code",
   "execution_count": 3,
   "id": "c2ff2ac2",
   "metadata": {},
   "outputs": [],
   "source": [
    "from sympy import *"
   ]
  },
  {
   "cell_type": "code",
   "execution_count": 4,
   "id": "947cd6bc",
   "metadata": {},
   "outputs": [],
   "source": [
    "cA2, cS, cO, cM = symbols('c_{A_2}, c_{S}, c_{O}, c_{M}')\n",
    "alpha, beta, theta, phi, delta, ep, lam = symbols('alpha beta theta phi delta epsilon lambda')"
   ]
  },
  {
   "cell_type": "code",
   "execution_count": 5,
   "id": "7f5e040c",
   "metadata": {},
   "outputs": [],
   "source": [
    "m = Rational(2, 1)\n",
    "cA = 2 * (1 - cA2) - lam * (cS + cM)\n",
    "dcA2dt = cO * cA - alpha * cM * cA2 - theta * cA2\n",
    "dcSdt = alpha/lam * cM * cA2 + theta/lam * cA2 - phi * cS - delta * (cS**m - cM)\n",
    "dcOdt = ep * (1 - cO * cA)\n",
    "dcMdt = delta * (cS**m - cM) - beta * cM"
   ]
  },
  {
   "cell_type": "code",
   "execution_count": 6,
   "id": "6c5d9666",
   "metadata": {},
   "outputs": [],
   "source": [
    "sol = solve([dcA2dt, dcSdt, dcOdt, dcMdt], (cA2, cS, cO, cM))"
   ]
  },
  {
   "cell_type": "code",
   "execution_count": 7,
   "id": "80884067",
   "metadata": {},
   "outputs": [],
   "source": [
    "cA2_0, cS_0, cO_0, cM_0 = sol[1]"
   ]
  },
  {
   "cell_type": "code",
   "execution_count": 8,
   "id": "650ed5c8",
   "metadata": {},
   "outputs": [],
   "source": [
    "J = Matrix([dcA2dt, dcSdt, dcOdt, dcMdt]).jacobian((cA2, cS, cO, cM))"
   ]
  },
  {
   "cell_type": "code",
   "execution_count": 9,
   "id": "cbb2e63a",
   "metadata": {},
   "outputs": [],
   "source": [
    "J0 = J.subs({cA2: cA2_0, cS: cS_0, cO: cO_0, cM: cM_0})"
   ]
  },
  {
   "cell_type": "code",
   "execution_count": 1,
   "id": "c5dfa178",
   "metadata": {},
   "outputs": [],
   "source": [
    "import numpy as np\n",
    "import matplotlib.pyplot as plt"
   ]
  },
  {
   "cell_type": "code",
   "execution_count": 2,
   "id": "a3febcd3",
   "metadata": {},
   "outputs": [],
   "source": [
    "rr = np.concat([np.linspace(0.4, 1, 10), np.linspace(1.1, 3, 10)])"
   ]
  },
  {
   "cell_type": "code",
   "execution_count": 10,
   "id": "1e1516a4",
   "metadata": {},
   "outputs": [],
   "source": [
    "rel = []\n",
    "iml = []\n",
    "rl = []\n",
    "for r in rr:\n",
    "    eimg_c = []\n",
    "    params = np.array([22, 3, 0.55, 18, 1e3, 1e3])/r\n",
    "    J0_n = J0.subs({alpha: params[0], beta: params[1], theta: params[2], phi: params[3], delta: params[4], ep: params[5], lam: 0.17})\n",
    "    e = J0_n.eigenvals()\n",
    "    eimg = [ei for ei in e if im(ei) != 0]\n",
    "    for i in eimg:\n",
    "        for j in eimg:\n",
    "            if i != j and conjugate(i) == j:\n",
    "                eimg_c = [i, j]\n",
    "                rl.append(r)\n",
    "    rel = rel + [re(e) for e in eimg_c]\n",
    "    iml = iml + [im(e) for e in eimg_c]\n",
    "\n",
    "\n"
   ]
  },
  {
   "cell_type": "code",
   "execution_count": 11,
   "id": "0e49cb95",
   "metadata": {},
   "outputs": [],
   "source": [
    "import matplotlib.ticker as mticker"
   ]
  },
  {
   "cell_type": "code",
   "execution_count": 12,
   "id": "25888c65",
   "metadata": {},
   "outputs": [
    {
     "data": {
      "image/png": "[encoded data removed]",
      "text/plain": [
       "<Figure size 400x300 with 2 Axes>"
      ]
     },
     "metadata": {},
     "output_type": "display_data"
    }
   ],
   "source": [
    "fig, ax = plt.subplots(figsize=(4, 3))\n",
    "ax.axhline(0, c='grey')\n",
    "ax.axvline(0, c='grey')\n",
    "fig.colorbar(ax.scatter(rel, iml, c=rl), ticks=[0.5, 3], format=mticker.FixedFormatter(['Low', 'High']), label='$H_2O_2$ injection rate')\n",
    "ax.set_xlabel('Real')\n",
    "ax.set_ylabel('Imaginary')\n",
    "fig.tight_layout()\n",
    "fig.savefig('figs\\hopf.png', dpi=300)"
   ]
  },
  {
   "cell_type": "code",
   "execution_count": 51,
   "id": "447acdd2",
   "metadata": {},
   "outputs": [],
   "source": [
    "params = np.array([20, 1, 0.6, 15, 1e3, 1e2])"
   ]
  },
  {
   "cell_type": "code",
   "execution_count": 55,
   "id": "50a10910",
   "metadata": {},
   "outputs": [],
   "source": [
    "J0_n = J0.subs({alpha: params[0], beta: params[1], theta: params[2], phi: params[3], delta: params[4], ep: params[5], lam: 0.17})"
   ]
  },
  {
   "cell_type": "code",
   "execution_count": 61,
   "id": "5babae28",
   "metadata": {},
   "outputs": [],
   "source": [
    "e = J0_n.eigenvals()"
   ]
  },
  {
   "cell_type": "code",
   "execution_count": null,
   "id": "35a68444",
   "metadata": {},
   "outputs": [
    {
     "data": {
      "text/plain": [
       "[-135.73474336838 + 1.5219950824308e-63*I,\n",
       " 0.995698790685563 - 5.45663369341127*I,\n",
       " 0.995698790685563 + 5.45663369341127*I]"
      ]
     },
     "execution_count": 77,
     "metadata": {},
     "output_type": "execute_result"
    }
   ],
   "source": [
    "eimg = [ei for ei in e if im(ei) != 0]"
   ]
  },
  {
   "cell_type": "code",
   "execution_count": null,
   "id": "b06113f8",
   "metadata": {},
   "outputs": [],
   "source": []
  }
 ],
 "metadata": {
  "kernelspec": {
   "display_name": "Python 3",
   "language": "python",
   "name": "python3"
  },
  "language_info": {
   "codemirror_mode": {
    "name": "ipython",
    "version": 3
   },
   "file_extension": ".py",
   "mimetype": "text/x-python",
   "name": "python",
   "nbconvert_exporter": "python",
   "pygments_lexer": "ipython3",
   "version": "3.10.16"
  }
 },
 "nbformat": 4,
 "nbformat_minor": 5
}
