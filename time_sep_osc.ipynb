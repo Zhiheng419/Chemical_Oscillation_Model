{
 "cells": [
  {
   "cell_type": "code",
   "execution_count": null,
   "id": "abd06b75",
   "metadata": {},
   "outputs": [],
   "source": [
    "import scipy as sp\n",
    "import numpy as np\n",
    "import matplotlib.pyplot as plt"
   ]
  },
  {
   "cell_type": "code",
   "execution_count": null,
   "id": "e4eddac6",
   "metadata": {},
   "outputs": [
    {
     "ename": "ModuleNotFoundError",
     "evalue": "No module named 'ddeint'",
     "output_type": "error",
     "traceback": [
      "\u001b[1;31m---------------------------------------------------------------------------\u001b[0m",
      "\u001b[1;31mModuleNotFoundError\u001b[0m                       Traceback (most recent call last)",
      "Cell \u001b[1;32mIn[5], line 2\u001b[0m\n\u001b[0;32m      1\u001b[0m \u001b[38;5;28;01mimport\u001b[39;00m \u001b[38;5;21;01mnumpy\u001b[39;00m \u001b[38;5;28;01mas\u001b[39;00m \u001b[38;5;21;01mnp\u001b[39;00m\n\u001b[1;32m----> 2\u001b[0m \u001b[38;5;28;01mimport\u001b[39;00m \u001b[38;5;21;01mddeint\u001b[39;00m  \u001b[38;5;66;03m# SciPy-based DDE solver:contentReference[oaicite:1]{index=1}\u001b[39;00m\n\u001b[0;32m      4\u001b[0m \u001b[38;5;66;03m# Model parameters\u001b[39;00m\n\u001b[0;32m      5\u001b[0m k_cat, k_leak, k_rec, k_in \u001b[38;5;241m=\u001b[39m \u001b[38;5;241m20.0\u001b[39m, \u001b[38;5;241m0.5\u001b[39m, \u001b[38;5;241m0.1\u001b[39m, \u001b[38;5;241m0.1\u001b[39m\n",
      "\u001b[1;31mModuleNotFoundError\u001b[0m: No module named 'ddeint'"
     ]
    }
   ],
   "source": [
    "import numpy as np\n",
    "from ddeint import ddeint  # SciPy-based DDE solver:contentReference[oaicite:1]{index=1}\n",
    "\n",
    "# Model parameters\n",
    "k_cat, k_leak, k_rec, k_in = 20.0, 0.5, 0.1, 0.1\n",
    "nu = 1.0\n",
    "k_form, k_degS, k_degM = 5.0, 10.0, 1.0\n",
    "n = 4\n",
    "K, Ks = 0.5, 0.3\n",
    "tau_p, tau_f, tau_d = 15.0, 0.0, 15.0\n",
    "\n",
    "# Hill functions\n",
    "def H(x): \n",
    "    return x**n / (K**n + x**n)\n",
    "def Hs(x):\n",
    "    return x**n / (Ks**n + x**n)\n",
    "\n",
    "# DDE system definition\n",
    "def model(Y, t):\n",
    "    A2, S, M, A = Y(t)                       # current values\n",
    "    M_delay = Y(t - tau_p)[2]                # M(t - tau_p)\n",
    "    S_feed  = Y(t - tau_f)[1]                # S(t - tau_f) (immediate since tau_f=0)\n",
    "    M_decay = Y(t - tau_d)[2]                # M(t - tau_d)\n",
    "    # DDEs:\n",
    "    dA2dt = k_in + k_rec * A - k_cat * A2 * H(M_delay) - k_leak * A2\n",
    "    dSdt  = (k_cat/nu)*A2 * H(M_delay) + (k_leak/nu)*A2 - k_form * Hs(S) - k_degS * S\n",
    "    dMdt  = k_form * Hs(S_feed) - k_degM * M_decay\n",
    "    dAdt  = k_cat * A2 * H(M_delay) + k_leak * A2 + k_degS * S - k_rec * A\n",
    "    return np.array([dA2dt, dSdt, dMdt, dAdt])\n",
    "\n",
    "# History function (initial values for t <= 0)\n",
    "A2_0, S_0, M_0, A_0 = 0.0, 0.0, 0.01, 0.0\n",
    "g = lambda t: np.array([A2_0, S_0, M_0, A_0])\n",
    "\n",
    "# Time span for simulation (0 to 800 units, with 0.1-unit steps for output)\n",
    "t_max = 800\n",
    "t_eval = np.linspace(0, t_max, 8001)\n",
    "\n",
    "# Integrate the DDEs\n",
    "sol = ddeint(model, g, t_eval)\n",
    "\n",
    "# Extract the sum S+M\n",
    "S_plus_M = sol[:,1] + sol[:,2]\n",
    "\n",
    "# Plot the results\n",
    "import matplotlib.pyplot as plt\n",
    "plt.figure(figsize=(8,4))\n",
    "plt.plot(t_eval, S_plus_M, color='b')\n",
    "plt.xlabel(\"Time\")\n",
    "plt.ylabel(\"Concentration (S + M)\")\n",
    "plt.title(\"Time-course of S+M (Intermediate + Autocatalyst)\")\n",
    "plt.show()\n"
   ]
  }
 ],
 "metadata": {
  "kernelspec": {
   "display_name": "base",
   "language": "python",
   "name": "python3"
  },
  "language_info": {
   "codemirror_mode": {
    "name": "ipython",
    "version": 3
   },
   "file_extension": ".py",
   "mimetype": "text/x-python",
   "name": "python",
   "nbconvert_exporter": "python",
   "pygments_lexer": "ipython3",
   "version": "3.7.12"
  }
 },
 "nbformat": 4,
 "nbformat_minor": 5
}
