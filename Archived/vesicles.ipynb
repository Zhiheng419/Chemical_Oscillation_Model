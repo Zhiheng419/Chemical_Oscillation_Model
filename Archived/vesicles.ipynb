{
 "cells": [
  {
   "cell_type": "code",
   "execution_count": 1,
   "metadata": {},
   "outputs": [],
   "source": [
    "import numpy as np \n",
    "import scipy as sp \n",
    "import matplotlib.pyplot as plt\n",
    "import pandas as pd\n",
    "from osc_toolkit import oscillation, delayed_oscillation\n",
    "from models import *\n",
    "from functools import partial\n",
    "from jitcdde import jitcdde, y, t, jitcdde_input\n",
    "import ipywidgets as widgets\n",
    "from matplotlib import patches"
   ]
  },
  {
   "cell_type": "code",
   "execution_count": 2,
   "metadata": {},
   "outputs": [
    {
     "name": "stdout",
     "output_type": "stream",
     "text": [
      "Initial cA2: 16.066 mM, H2O2 input rate: 9 mM/h, time unit: 1.785 h\n"
     ]
    }
   ],
   "source": [
    "df_ves_6h_osc = pd.read_csv(r'Data_sets/ves_6h_osc_JACS_ZZ.csv')\n",
    "cA2_tol = df_ves_6h_osc.loc[0, 'cA2'] + df_ves_6h_osc.loc[0, 'cA']/2\n",
    "rext = 9\n",
    "tau = cA2_tol/rext\n",
    "cmc = 0.058\n",
    "print(f'Initial cA2: {cA2_tol:.3f} mM, H2O2 input rate: {rext} mM/h, time unit: {tau:.3f} h')\n",
    "\n",
    "for col in ['TimeA2', 'TimeS', 'TimeA']:\n",
    "    df_ves_6h_osc[col] /= tau\n",
    "\n",
    "df_ves_6h_osc['cS'] /= cmc\n",
    "df_ves_6h_osc['cA'] /= cA2_tol\n",
    "df_ves_6h_osc['cA2'] /= cA2_tol"
   ]
  },
  {
   "cell_type": "code",
   "execution_count": 3,
   "metadata": {},
   "outputs": [
    {
     "name": "stdout",
     "output_type": "stream",
     "text": [
      "The species are ['A2', 'S_sum', 'A', 'O']. Please check if the data is in the same order and correct format (time, concentration).\n",
      "Initial condition is set as [0.02317277 0.         1.95365445]\n"
     ]
    }
   ],
   "source": [
    "params = np.array([0.25, 15, 0.35, 45, 0.05])\n",
    "consts = np.array([0.0036, 2])\n",
    "delay = np.array([0.01, 0.02])\n",
    "init_cond = [0.1, 0, 0]\n",
    "ves_model = delayed_oscillation(delayed_full_model_consumeO, delay, params, consts, init_cond, calc_all_delayed_full_model_consumeO)\n",
    "ves_model.add_exp_data(df_ves_6h_osc)\n",
    "ves_model.set_init_cond([0.1, 0, 0])"
   ]
  },
  {
   "cell_type": "code",
   "execution_count": 4,
   "metadata": {},
   "outputs": [
    {
     "data": {
      "application/vnd.jupyter.widget-view+json": {
       "model_id": "b7d9416279cb4b2bb20ce95cf37a7892",
       "version_major": 2,
       "version_minor": 0
      },
      "text/plain": [
       "interactive(children=(FloatSlider(value=0.25, description='alpha', max=5.25, step=0.01), FloatSlider(value=15.…"
      ]
     },
     "metadata": {},
     "output_type": "display_data"
    }
   ],
   "source": [
    "ves_model.interactive_plot(exp=True, step=0.01)"
   ]
  },
  {
   "cell_type": "code",
   "execution_count": null,
   "metadata": {},
   "outputs": [],
   "source": []
  }
 ],
 "metadata": {
  "kernelspec": {
   "display_name": "base",
   "language": "python",
   "name": "python3"
  },
  "language_info": {
   "codemirror_mode": {
    "name": "ipython",
    "version": 3
   },
   "file_extension": ".py",
   "mimetype": "text/x-python",
   "name": "python",
   "nbconvert_exporter": "python",
   "pygments_lexer": "ipython3",
   "version": "3.11.8"
  }
 },
 "nbformat": 4,
 "nbformat_minor": 2
}
