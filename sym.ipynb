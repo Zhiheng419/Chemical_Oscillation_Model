{
 "cells": [
  {
   "cell_type": "code",
   "execution_count": 2,
   "metadata": {},
   "outputs": [],
   "source": [
    "import sympy as syp"
   ]
  },
  {
   "cell_type": "code",
   "execution_count": 3,
   "metadata": {},
   "outputs": [],
   "source": [
    "x, y, z, alpha, beta, theta, phi, lam, epsilon = syp.symbols('x y z alpha beta theta phi lambda epsilon')"
   ]
  },
  {
   "cell_type": "code",
   "execution_count": 4,
   "metadata": {},
   "outputs": [],
   "source": [
    "dxdt = z*(2*(1-x) - lam*y*(y+1)) - alpha*x*y**2 - theta*x\n",
    "dydt = alpha/lam * x*y**2 - beta*y**2 + theta/lam * x - phi*y\n",
    "dzdt = 1/epsilon * (1 - z*(2*(1-x) - lam*y*(y+1)))"
   ]
  },
  {
   "cell_type": "code",
   "execution_count": 5,
   "metadata": {},
   "outputs": [],
   "source": [
    "J = syp.Matrix([dxdt, dydt, dzdt]).jacobian([x, y, z])"
   ]
  },
  {
   "cell_type": "code",
   "execution_count": 6,
   "metadata": {},
   "outputs": [],
   "source": [
    "eigenvalues = J.eigenvals()"
   ]
  },
  {
   "cell_type": "code",
   "execution_count": 7,
   "metadata": {},
   "outputs": [],
   "source": [
    "f = beta*y**2 + phi*y - 1/lam\n",
    "y0_2, y0 = syp.solve(f, y)"
   ]
  },
  {
   "cell_type": "code",
   "execution_count": 8,
   "metadata": {},
   "outputs": [
    {
     "data": {
      "text/latex": [
       "$\\displaystyle \\frac{- \\lambda \\phi + \\sqrt{\\lambda \\left(4 \\beta + \\lambda \\phi^{2}\\right)}}{2 \\beta \\lambda}$"
      ],
      "text/plain": [
       "(-lambda*phi + sqrt(lambda*(4*beta + lambda*phi**2)))/(2*beta*lambda)"
      ]
     },
     "execution_count": 8,
     "metadata": {},
     "output_type": "execute_result"
    }
   ],
   "source": [
    "y0"
   ]
  },
  {
   "cell_type": "code",
   "execution_count": 9,
   "metadata": {},
   "outputs": [
    {
     "data": {
      "text/latex": [
       "$\\displaystyle \\frac{- \\lambda \\phi - \\sqrt{\\lambda \\left(4 \\beta + \\lambda \\phi^{2}\\right)}}{2 \\beta \\lambda}$"
      ],
      "text/plain": [
       "(-lambda*phi - sqrt(lambda*(4*beta + lambda*phi**2)))/(2*beta*lambda)"
      ]
     },
     "execution_count": 9,
     "metadata": {},
     "output_type": "execute_result"
    }
   ],
   "source": [
    "y0_2"
   ]
  },
  {
   "cell_type": "code",
   "execution_count": 10,
   "metadata": {},
   "outputs": [
    {
     "data": {
      "text/latex": [
       "$\\displaystyle \\left[\\begin{matrix}- \\alpha y^{2} - \\theta - 2 z & - 2 \\alpha x y + z \\left(- \\lambda y - \\lambda \\left(y + 1\\right)\\right) & - \\lambda y \\left(y + 1\\right) - 2 x + 2\\\\\\frac{\\alpha y^{2}}{\\lambda} + \\frac{\\theta}{\\lambda} & \\frac{2 \\alpha x y}{\\lambda} - 2 \\beta y - \\phi & 0\\\\\\frac{2 z}{\\epsilon} & - \\frac{z \\left(- \\lambda y - \\lambda \\left(y + 1\\right)\\right)}{\\epsilon} & \\frac{\\lambda y \\left(y + 1\\right) + 2 x - 2}{\\epsilon}\\end{matrix}\\right]$"
      ],
      "text/plain": [
       "Matrix([\n",
       "[       -alpha*y**2 - theta - 2*z, -2*alpha*x*y + z*(-lambda*y - lambda*(y + 1)),          -lambda*y*(y + 1) - 2*x + 2],\n",
       "[alpha*y**2/lambda + theta/lambda,           2*alpha*x*y/lambda - 2*beta*y - phi,                                    0],\n",
       "[                     2*z/epsilon,       -z*(-lambda*y - lambda*(y + 1))/epsilon, (lambda*y*(y + 1) + 2*x - 2)/epsilon]])"
      ]
     },
     "execution_count": 10,
     "metadata": {},
     "output_type": "execute_result"
    }
   ],
   "source": [
    "J"
   ]
  },
  {
   "cell_type": "code",
   "execution_count": 11,
   "metadata": {},
   "outputs": [],
   "source": [
    "x0 = syp.simplify(1/(alpha*y0**2 + theta))"
   ]
  },
  {
   "cell_type": "code",
   "execution_count": 12,
   "metadata": {},
   "outputs": [
    {
     "data": {
      "text/latex": [
       "$\\displaystyle \\frac{4 \\beta^{2} \\lambda^{2}}{\\alpha \\left(\\lambda \\phi - \\sqrt{\\lambda \\left(4 \\beta + \\lambda \\phi^{2}\\right)}\\right)^{2} + 4 \\beta^{2} \\lambda^{2} \\theta}$"
      ],
      "text/plain": [
       "4*beta**2*lambda**2/(alpha*(lambda*phi - sqrt(lambda*(4*beta + lambda*phi**2)))**2 + 4*beta**2*lambda**2*theta)"
      ]
     },
     "execution_count": 12,
     "metadata": {},
     "output_type": "execute_result"
    }
   ],
   "source": [
    "x0"
   ]
  },
  {
   "cell_type": "code",
   "execution_count": 13,
   "metadata": {},
   "outputs": [],
   "source": [
    "z0 = syp.simplify(1/(2*(1-x0) - lam*y0*(y0+1)))"
   ]
  },
  {
   "cell_type": "code",
   "execution_count": 14,
   "metadata": {},
   "outputs": [
    {
     "data": {
      "text/latex": [
       "$\\displaystyle - \\frac{1}{\\frac{8 \\beta^{2} \\lambda^{2}}{\\alpha \\left(\\lambda \\phi - \\sqrt{\\lambda \\left(4 \\beta + \\lambda \\phi^{2}\\right)}\\right)^{2} + 4 \\beta^{2} \\lambda^{2} \\theta} - 2 - \\frac{\\left(1 - \\frac{\\lambda \\phi - \\sqrt{\\lambda \\left(4 \\beta + \\lambda \\phi^{2}\\right)}}{2 \\beta \\lambda}\\right) \\left(\\lambda \\phi - \\sqrt{\\lambda \\left(4 \\beta + \\lambda \\phi^{2}\\right)}\\right)}{2 \\beta}}$"
      ],
      "text/plain": [
       "-1/(8*beta**2*lambda**2/(alpha*(lambda*phi - sqrt(lambda*(4*beta + lambda*phi**2)))**2 + 4*beta**2*lambda**2*theta) - 2 - (1 - (lambda*phi - sqrt(lambda*(4*beta + lambda*phi**2)))/(2*beta*lambda))*(lambda*phi - sqrt(lambda*(4*beta + lambda*phi**2)))/(2*beta))"
      ]
     },
     "execution_count": 14,
     "metadata": {},
     "output_type": "execute_result"
    }
   ],
   "source": [
    "z0"
   ]
  },
  {
   "cell_type": "code",
   "execution_count": 15,
   "metadata": {},
   "outputs": [
    {
     "data": {
      "text/latex": [
       "$\\displaystyle \\left[\\begin{matrix}\\frac{4 \\beta^{2} \\lambda^{2}}{\\alpha \\left(\\lambda \\phi - \\sqrt{\\lambda \\left(4 \\beta + \\lambda \\phi^{2}\\right)}\\right)^{2} + 4 \\beta^{2} \\lambda^{2} \\theta}\\\\\\frac{- \\lambda \\phi + \\sqrt{\\lambda \\left(4 \\beta + \\lambda \\phi^{2}\\right)}}{2 \\beta \\lambda}\\\\- \\frac{1}{\\frac{8 \\beta^{2} \\lambda^{2}}{\\alpha \\left(\\lambda \\phi - \\sqrt{\\lambda \\left(4 \\beta + \\lambda \\phi^{2}\\right)}\\right)^{2} + 4 \\beta^{2} \\lambda^{2} \\theta} - 2 - \\frac{\\left(1 - \\frac{\\lambda \\phi - \\sqrt{\\lambda \\left(4 \\beta + \\lambda \\phi^{2}\\right)}}{2 \\beta \\lambda}\\right) \\left(\\lambda \\phi - \\sqrt{\\lambda \\left(4 \\beta + \\lambda \\phi^{2}\\right)}\\right)}{2 \\beta}}\\end{matrix}\\right]$"
      ],
      "text/plain": [
       "Matrix([\n",
       "[                                                                                                                                                    4*beta**2*lambda**2/(alpha*(lambda*phi - sqrt(lambda*(4*beta + lambda*phi**2)))**2 + 4*beta**2*lambda**2*theta)],\n",
       "[                                                                                                                                                                                              (-lambda*phi + sqrt(lambda*(4*beta + lambda*phi**2)))/(2*beta*lambda)],\n",
       "[-1/(8*beta**2*lambda**2/(alpha*(lambda*phi - sqrt(lambda*(4*beta + lambda*phi**2)))**2 + 4*beta**2*lambda**2*theta) - 2 - (1 - (lambda*phi - sqrt(lambda*(4*beta + lambda*phi**2)))/(2*beta*lambda))*(lambda*phi - sqrt(lambda*(4*beta + lambda*phi**2)))/(2*beta))]])"
      ]
     },
     "execution_count": 15,
     "metadata": {},
     "output_type": "execute_result"
    }
   ],
   "source": [
    "fixpt = syp.Matrix([x0, y0, z0])\n",
    "fixpt"
   ]
  },
  {
   "cell_type": "code",
   "execution_count": 16,
   "metadata": {},
   "outputs": [],
   "source": [
    "J_sub = syp.simplify(J.subs({x: x0, y: y0, z: z0}))"
   ]
  },
  {
   "cell_type": "code",
   "execution_count": 21,
   "metadata": {},
   "outputs": [],
   "source": [
    "M = J_sub.subs({alpha: 10, beta: 50, theta: 1, phi: 50, lam: 0.1, epsilon: 1000})"
   ]
  },
  {
   "cell_type": "code",
   "execution_count": 22,
   "metadata": {},
   "outputs": [
    {
     "data": {
      "text/plain": [
       "{-39.4979446596911: 1, -7.06134573650454: 1, -0.000134149389703059: 1}"
      ]
     },
     "execution_count": 22,
     "metadata": {},
     "output_type": "execute_result"
    }
   ],
   "source": [
    "M.eigenvals()"
   ]
  },
  {
   "cell_type": "code",
   "execution_count": null,
   "metadata": {},
   "outputs": [],
   "source": []
  }
 ],
 "metadata": {
  "kernelspec": {
   "display_name": "Python 3",
   "language": "python",
   "name": "python3"
  },
  "language_info": {
   "codemirror_mode": {
    "name": "ipython",
    "version": 3
   },
   "file_extension": ".py",
   "mimetype": "text/x-python",
   "name": "python",
   "nbconvert_exporter": "python",
   "pygments_lexer": "ipython3",
   "version": "3.10.16"
  }
 },
 "nbformat": 4,
 "nbformat_minor": 2
}
