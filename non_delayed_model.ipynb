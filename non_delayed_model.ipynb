{
 "cells": [
  {
   "cell_type": "code",
   "execution_count": 196,
   "metadata": {},
   "outputs": [],
   "source": [
    "import numpy as np\n",
    "import scipy as sp\n",
    "import matplotlib.pyplot as plt\n",
    "from scipy.integrate import solve_ivp\n",
    "from functools import partial\n",
    "import pandas as pd\n",
    "from IPython.display import display\n",
    "import ipywidgets as widgets"
   ]
  },
  {
   "cell_type": "markdown",
   "metadata": {},
   "source": [
    "# 1. Simulation of Fernando's original model"
   ]
  },
  {
   "cell_type": "code",
   "execution_count": 231,
   "metadata": {},
   "outputs": [],
   "source": [
    "#Params includes alpha, beta, theta, phi, lam, m in the final model\n",
    "\n",
    "def model1(t, vars, params):\n",
    "    alpha, beta, theta, phi, lam, m = params\n",
    "    C_A2, C_S = vars\n",
    "    dC_A2dt = 1 - alpha * C_A2 * C_S**m - theta * C_A2\n",
    "    dC_Sdt = alpha/lam * C_A2 * C_S**m - beta * C_S**(m + 1) + theta/lam * C_A2 - phi * C_S\n",
    "    return (dC_A2dt, dC_Sdt)\n",
    "\n",
    "def model1_Hill(t, vars, params):\n",
    "    pass\n",
    "\n",
    "def calculate_all_conc(sol, consts):\n",
    "    lam, m = consts\n",
    "    C_A2 = sol.y[0]\n",
    "    C_S = sol.y[1]\n",
    "    C_M = C_S ** m\n",
    "    C_A = 2 * (1 - C_A2) - lam * (C_S + C_M)\n",
    "    return (C_A2, C_S + C_M, C_A)"
   ]
  },
  {
   "cell_type": "markdown",
   "metadata": {},
   "source": [
    "## Control of oscillations (OOP version)"
   ]
  },
  {
   "cell_type": "code",
   "execution_count": null,
   "metadata": {},
   "outputs": [],
   "source": [
    "#calc_others(sol, consts)\n",
    "class oscmodel:\n",
    "    def __init__(self, model, params, consts):\n",
    "        self.model = model\n",
    "        self.params = params\n",
    "        self.consts = consts\n",
    "\n",
    "        self.__calc_all = None\n",
    "        self.species = ['cA2', 'cS_tol', 'cA']\n",
    "        self.info = None\n",
    "        self.exp_data = None\n",
    "   \n",
    "    def calc_all(self, function):\n",
    "        self.__calc_all = function\n",
    "        \n",
    "    def simulate(self, init_cond, t=10):\n",
    "        params_pass = self.params + self.consts\n",
    "        model_partial = partial(self.model, params = params_pass)\n",
    "        t_span = (0, t)\n",
    "        t_eval = np.linspace(0, t, 250)\n",
    "        sol = solve_ivp(model_partial, t_span = t_span, y0 = init_cond, t_eval = t_eval, rtol=1e-6, atol=1e-8)\n",
    "        return sol\n",
    "    \n",
    "    def plot(self, init_cond, t=10):\n",
    "        sol = self.simulate(init_cond, t)\n",
    "        c = self.__calc_all(sol, self.consts)\n",
    "        fig, ax = plt.subplots(3, 1, figsize = (8,10))\n",
    "        i = 0\n",
    "        for ax, y in zip(ax, c):\n",
    "            ax.plot(sol.t, y, label = self.species[i])\n",
    "            ax.legend()\n",
    "            i += 1\n",
    "        return fig, ax\n",
    "    \n",
    "    def interactive_plot(self, init_cond, param_num=4, t=10, range = 5, step=0.05):\n",
    "        if param_num == 4:\n",
    "            print('4 parameters')\n",
    "            def plot_temp(alpha, beta, theta, phi):\n",
    "                params_old = self.params\n",
    "                params = [alpha, beta, theta, phi]\n",
    "                self.params = params\n",
    "                self.plot(init_cond, t)\n",
    "                self.params = params_old\n",
    "            \n",
    "            alpha, beta, theta, phi = self.params\n",
    "            alpha_slider = widgets.FloatSlider(value=alpha, min=max(0, alpha-range), max=alpha+range, step=step, description='alpha')\n",
    "            beta_slider = widgets.FloatSlider(value=beta, min=max(0, beta-range), max=beta+range, step=step, description='beta')\n",
    "            theta_slider = widgets.FloatSlider(value=theta, min=max(0, theta-range), max=theta+range, step=step, description='theta')\n",
    "            phi_slider = widgets.FloatSlider(value=phi, min=max(0, phi-range), max=phi+range, step=step, description='phi')\n",
    "\n",
    "            interactive_widget = widgets.interactive(plot_temp, alpha=alpha_slider, beta=beta_slider, theta=theta_slider, phi=phi_slider)\n",
    "            display(interactive_widget)\n",
    "\n",
    "        elif param_num == 5:\n",
    "            print('5 parameters')\n",
    "            pass\n",
    "\n",
    "    def fit(self, model, exp_data):\n",
    "        pass"
   ]
  },
  {
   "cell_type": "code",
   "execution_count": 224,
   "metadata": {},
   "outputs": [],
   "source": [
    "params = [10, 10, 10, 10]\n",
    "consts = [0.17, 4]\n",
    "init_cond = [0.1, 0]"
   ]
  },
  {
   "cell_type": "code",
   "execution_count": 232,
   "metadata": {},
   "outputs": [],
   "source": [
    "model_test = oscmodel(model1, params, consts)\n",
    "model_test.info = '4 Parameters: alpha, beta, theta, phi; 2 Constants: lambda, m'\n",
    "model_test.calc_all(calculate_all_conc)"
   ]
  },
  {
   "cell_type": "code",
   "execution_count": null,
   "metadata": {},
   "outputs": [],
   "source": []
  },
  {
   "cell_type": "code",
   "execution_count": null,
   "metadata": {},
   "outputs": [
    {
     "name": "stdout",
     "output_type": "stream",
     "text": [
      "4 parameters\n"
     ]
    },
    {
     "data": {
      "application/vnd.jupyter.widget-view+json": {
       "model_id": "12b01a90fda24fc396edb8403725660a",
       "version_major": 2,
       "version_minor": 0
      },
      "text/plain": [
       "interactive(children=(FloatSlider(value=10.0, description='alpha', max=20.0, step=0.05), FloatSlider(value=10.…"
      ]
     },
     "metadata": {},
     "output_type": "display_data"
    }
   ],
   "source": [
    "model_test.interactive_plot(init_cond, range=10, t=6)"
   ]
  }
 ],
 "metadata": {
  "kernelspec": {
   "display_name": "Python 3",
   "language": "python",
   "name": "python3"
  },
  "language_info": {
   "codemirror_mode": {
    "name": "ipython",
    "version": 3
   },
   "file_extension": ".py",
   "mimetype": "text/x-python",
   "name": "python",
   "nbconvert_exporter": "python",
   "pygments_lexer": "ipython3",
   "version": "3.10.13"
  }
 },
 "nbformat": 4,
 "nbformat_minor": 2
}
