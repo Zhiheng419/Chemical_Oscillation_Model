{
 "cells": [
  {
   "cell_type": "code",
   "execution_count": 1,
   "metadata": {},
   "outputs": [],
   "source": [
    "import numpy as np\n",
    "import scipy as sp\n",
    "import matplotlib.pyplot as plt\n",
    "from scipy.integrate import solve_ivp\n",
    "from functools import partial\n",
    "import pandas as pd\n",
    "from IPython.display import display\n",
    "import ipywidgets as widgets"
   ]
  },
  {
   "cell_type": "markdown",
   "metadata": {},
   "source": [
    "## Control of oscillations (OOP version)"
   ]
  },
  {
   "cell_type": "code",
   "execution_count": null,
   "metadata": {},
   "outputs": [],
   "source": [
    "#calc_others(sol, consts)\n",
    "class oscillation:\n",
    "    def __init__(self, model, params, consts, calc_all):\n",
    "\n",
    "        #Model and parameters\n",
    "        self.__model = model\n",
    "        self.__params = params\n",
    "        self.__consts = consts\n",
    "        self.__calc_all = calc_all\n",
    "\n",
    "        #Essential information\n",
    "        self.__species = ['A2', 'S_total', 'A', 'O']\n",
    "        self.__info = None\n",
    "\n",
    "        #Experimental data\n",
    "        self.__exp_data = None\n",
    "\n",
    "    @property\n",
    "    def info(self):\n",
    "        print(f'The model includes {len(self.__params)} parameters and {len(self.__consts)} constants. The species are {self.__species}.')\n",
    "        print(f'Additional information: {self.__info}')\n",
    "\n",
    "    def add_info(self, info):\n",
    "        self.__info = info\n",
    "        \n",
    "    def simulate(self, init_cond, t=10):\n",
    "        params_pass = self.__params + self.__consts\n",
    "        model_partial = partial(self.__model, params = params_pass)\n",
    "        t_span = (0, t)\n",
    "        t_eval = np.linspace(0, t, 250)\n",
    "        sol = solve_ivp(model_partial, t_span = t_span, y0 = init_cond, t_eval = t_eval, rtol=1e-6, atol=1e-8)\n",
    "        return sol\n",
    "    \n",
    "    def plot(self, init_cond, t=10, exp=False):\n",
    "        sol = self.simulate(init_cond, t)\n",
    "        c = self.__calc_all(sol, self.__consts)\n",
    "        fig, ax = plt.subplots(2, 2, figsize = (10,6))\n",
    "        i = 0\n",
    "        for ax, y in zip(ax.flatten(), c):\n",
    "            ax.plot(sol.t, y, label = self.__species[i])\n",
    "            ax.legend()\n",
    "            i += 1\n",
    "        return fig, ax\n",
    "    \n",
    "    def interactive_plot(self, init_cond, t=10, range = 5, step=0.05):\n",
    "        \n",
    "        if len(self.__params) == 4:\n",
    "            print('4 parameters')\n",
    "            def plot_temp(alpha, beta, theta, phi):\n",
    "                params_old = self.__params\n",
    "                params = [alpha, beta, theta, phi]\n",
    "                self.__params = params\n",
    "                self.plot(init_cond, t)\n",
    "                self.__params = params_old\n",
    "            \n",
    "            alpha, beta, theta, phi = self.__params\n",
    "            alpha_slider = widgets.FloatSlider(value=alpha, min=max(0, alpha-range), max=alpha+range, step=step, description='alpha')\n",
    "            beta_slider = widgets.FloatSlider(value=beta, min=max(0, beta-range), max=beta+range, step=step, description='beta')\n",
    "            theta_slider = widgets.FloatSlider(value=theta, min=max(0, theta-range), max=theta+range, step=step, description='theta')\n",
    "            phi_slider = widgets.FloatSlider(value=phi, min=max(0, phi-range), max=phi+range, step=step, description='phi')\n",
    "\n",
    "            interactive_widget = widgets.interactive(plot_temp, alpha=alpha_slider, beta=beta_slider, theta=theta_slider, phi=phi_slider)\n",
    "            display(interactive_widget)\n",
    "\n",
    "        elif len(self.__params) == 5:\n",
    "            print('5 parameters')\n",
    "            pass\n",
    "\n",
    "    def add_exp_data(self, data):\n",
    "        print(f'The species are {self.__species}. Please check if the data is in the same order and correct format (time, concentration).')\n",
    "        self.__exp_data = data\n",
    "\n",
    "    def set_params(self, params):\n",
    "        self.__params = params\n",
    "\n",
    "    def fit(self):\n",
    "        tA2 = np.array(self.__exp_data.iloc[:, 0])\n",
    "        cA2 = np.array(self.__exp_data.iloc[:, 1])\n",
    "        tS = np.array(self.__exp_data.iloc[:, 2])\n",
    "        cS = np.array(self.__exp_data.iloc[:, 3])\n",
    "\n",
    "        if self.__exp_data.shape[1] >= 4:\n",
    "            tA = np.array(self.__exp_data.iloc[:, 4])\n",
    "            cA = np.array(self.__exp_data.iloc[:, 5])\n",
    "        \n",
    "        def objective(params):\n",
    "            \n",
    "\n"
   ]
  },
  {
   "cell_type": "code",
   "execution_count": null,
   "metadata": {},
   "outputs": [],
   "source": [
    "def objective(params, t_exp, Cs_exp, lam, m, init_cA2 = 0.1):\n",
    "    sim = simulate(params, t_exp, lam, m, init_cA2)\n",
    "    print(params)\n",
    "    Cs_sum = sim[1] + (sim[1]) ** m\n",
    "    return np.sum((Cs_sum-Cs_exp)**2)\n",
    "\n",
    "def objective_2conc(params, tA2_exp, tS_exp, CA2_exp, Cs_exp, lam, m, init_cA2 = 0.1):\n",
    "    simA2 = simulate(params, tA2_exp, lam, m, init_cA2)\n",
    "    simS = simulate(params, tS_exp, lam, m, init_cA2)\n",
    "    print(params)\n",
    "    Cs_sum = simS[1] + (simS[1]) ** m\n",
    "    CA2 = simA2[0]\n",
    "    return np.sum((Cs_sum-Cs_exp)**2 + (CA2 - CA2_exp)**2)"
   ]
  },
  {
   "cell_type": "code",
   "execution_count": 3,
   "metadata": {},
   "outputs": [],
   "source": [
    "#Params includes alpha, beta, theta, phi, lam, m in the final model\n",
    "\n",
    "def model1(t, vars, params):\n",
    "    alpha, beta, theta, phi, lam, m = params\n",
    "    C_A2, C_S = vars\n",
    "    dC_A2dt = 1 - alpha * C_A2 * C_S**m - theta * C_A2\n",
    "    dC_Sdt = alpha/lam * C_A2 * C_S**m - beta * C_S**(m + 1) + theta/lam * C_A2 - phi * C_S\n",
    "    return (dC_A2dt, dC_Sdt)\n",
    "\n",
    "def model1_Hill(t, vars, params):\n",
    "    pass\n",
    "\n",
    "def calculate_all_conc(sol, consts):\n",
    "    lam, m = consts\n",
    "    C_A2 = sol.y[0]\n",
    "    C_S = sol.y[1]\n",
    "    C_M = C_S ** m\n",
    "    C_A = 2 * (1 - C_A2) - lam * (C_S + C_M)\n",
    "    C_O = 1 / (2 * (1 - C_A2) - lam * (C_S + C_M)) ** 2\n",
    "    return (C_A2, C_S + C_M, C_A, C_O)"
   ]
  },
  {
   "cell_type": "code",
   "execution_count": 20,
   "metadata": {},
   "outputs": [],
   "source": [
    "params = [10, 10, 10, 10]\n",
    "consts = [0.17, 4]\n",
    "init_cond = [0.1, 0]\n",
    "\n",
    "model_test = oscillation(model1, params, consts, calculate_all_conc)"
   ]
  },
  {
   "cell_type": "code",
   "execution_count": 21,
   "metadata": {},
   "outputs": [
    {
     "name": "stdout",
     "output_type": "stream",
     "text": [
      "The model includes 4 parameters and 2 constants. The species are ['A2', 'S_total', 'A', 'O'].\n",
      "Additional information: This is a test model. The original Fernando's model\n"
     ]
    }
   ],
   "source": [
    "model_test.add_info('This is a test model. The original Fernando\\'s model')\n",
    "model_test.info"
   ]
  },
  {
   "cell_type": "code",
   "execution_count": 10,
   "metadata": {},
   "outputs": [],
   "source": [
    "df_c1 = pd.read_csv(r'C:\\Users\\chem-sedm6967\\OneDrive - Nexus365\\Desktop\\01_projects\\01_oscillation modelling\\Chemical_Oscillation_Model\\Data_sets\\1_expB_osc_NatChem_MH.csv')\n",
    "df_c3a = pd.read_csv(r'C:\\Users\\chem-sedm6967\\OneDrive - Nexus365\\Desktop\\01_projects\\01_oscillation modelling\\Chemical_Oscillation_Model\\Data_sets\\3a_expA_osc_NatChem_MH.csv')\n",
    "df_c4 = pd.read_csv(r'C:\\Users\\chem-sedm6967\\OneDrive - Nexus365\\Desktop\\01_projects\\01_oscillation modelling\\Chemical_Oscillation_Model\\Data_sets\\4_expB_osc_NatChem_MH.csv')"
   ]
  },
  {
   "cell_type": "code",
   "execution_count": 16,
   "metadata": {},
   "outputs": [],
   "source": [
    "exp_data = pd.concat([df_c1, df_c3a, df_c4], axis=1)\n",
    "exp_data.columns = ['t1', 'c1','t3a', 'c3a', 't4', 'c4']"
   ]
  },
  {
   "cell_type": "code",
   "execution_count": 30,
   "metadata": {},
   "outputs": [
    {
     "data": {
      "text/plain": [
       "(158, 6)"
      ]
     },
     "execution_count": 30,
     "metadata": {},
     "output_type": "execute_result"
    }
   ],
   "source": [
    "exp_data.shape"
   ]
  },
  {
   "cell_type": "code",
   "execution_count": 29,
   "metadata": {},
   "outputs": [
    {
     "data": {
      "text/plain": [
       "0      0.000000\n",
       "1      0.053763\n",
       "2      0.053763\n",
       "3      0.129032\n",
       "4      0.215054\n",
       "         ...   \n",
       "153    7.537634\n",
       "154    7.645161\n",
       "155    7.731183\n",
       "156    7.752688\n",
       "157    7.838710\n",
       "Name: t1, Length: 158, dtype: float64"
      ]
     },
     "execution_count": 29,
     "metadata": {},
     "output_type": "execute_result"
    }
   ],
   "source": [
    "exp_data.iloc[:,0]"
   ]
  },
  {
   "cell_type": "code",
   "execution_count": 22,
   "metadata": {},
   "outputs": [
    {
     "name": "stdout",
     "output_type": "stream",
     "text": [
      "The species are ['A2', 'S_total', 'A', 'O']. Please check if the data is in the same order and correct format (time, concentration).\n"
     ]
    }
   ],
   "source": [
    "model_test.add_exp_data(exp_data)"
   ]
  },
  {
   "cell_type": "code",
   "execution_count": 6,
   "metadata": {},
   "outputs": [
    {
     "name": "stdout",
     "output_type": "stream",
     "text": [
      "4 parameters\n"
     ]
    },
    {
     "data": {
      "application/vnd.jupyter.widget-view+json": {
       "model_id": "5fc3aef0509b489880b3ae1711a146b5",
       "version_major": 2,
       "version_minor": 0
      },
      "text/plain": [
       "interactive(children=(FloatSlider(value=10.0, description='alpha', max=20.0, step=0.05), FloatSlider(value=10.…"
      ]
     },
     "metadata": {},
     "output_type": "display_data"
    }
   ],
   "source": [
    "model_test.interactive_plot(init_cond, range=10, t=6)"
   ]
  }
 ],
 "metadata": {
  "kernelspec": {
   "display_name": "Python 3",
   "language": "python",
   "name": "python3"
  },
  "language_info": {
   "codemirror_mode": {
    "name": "ipython",
    "version": 3
   },
   "file_extension": ".py",
   "mimetype": "text/x-python",
   "name": "python",
   "nbconvert_exporter": "python",
   "pygments_lexer": "ipython3",
   "version": "3.10.13"
  }
 },
 "nbformat": 4,
 "nbformat_minor": 2
}
