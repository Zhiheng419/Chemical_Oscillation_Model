{
 "cells": [
  {
   "cell_type": "code",
   "execution_count": 1,
   "metadata": {},
   "outputs": [],
   "source": [
    "import numpy as np \n",
    "import matplotlib.pyplot as plt\n",
    "import pandas as pd\n",
    "from osc_toolkit import oscillation, delayed_oscillation\n",
    "from models import *\n",
    "import matplotlib.ticker as mticker"
   ]
  },
  {
   "cell_type": "code",
   "execution_count": 2,
   "metadata": {},
   "outputs": [],
   "source": [
    "def delayed_full_first_order_model(delays):\n",
    "    td1, td2 = delays\n",
    "    alpha, beta, theta, phi, ep, k, lam, m = symbols('alpha beta theta phi ep k lam m')\n",
    "    cA = 2 * (1 - y(0)) - lam * (y(1) + y(1)**m)\n",
    "    dcA2dt = cA * y(2) - alpha * y(0) * y(1, t-td2)**m - theta * y(0)\n",
    "    dcSdt = alpha/lam * y(0) * y(1, t-td2)**m - beta * \\\n",
    "        y(1, t-td1)**m + theta/lam * y(0) - phi * y(1)\n",
    "    dcOdt = ep * (1 - y(2) * cA - k * y(2) * y(1, t-td2)**m) \n",
    "    dde = jitcdde([dcA2dt, dcSdt, dcOdt], control_pars=[\n",
    "                  alpha, beta, theta, phi, ep, k, lam, m])\n",
    "    return dde\n",
    "\n",
    "def calc_all_delayed_full_model(sol, consts, *params):\n",
    "    lam, m = consts\n",
    "    cA2 = sol[:, 0]\n",
    "    cS = sol[:, 1]\n",
    "    cO = sol[:, 2]\n",
    "    cM = cS ** m\n",
    "    cA = 2 * (1 - cA2) - lam * (cS + cM)\n",
    "    return np.array([cA2, cS + cM, cA, cO])\n",
    "\n",
    "delayed_full_first_order_consumeO = {'model': delayed_full_first_order_model, 'calc_all': calc_all_delayed_full_model,\n",
    "                            'info': '6 params: alpha, beta, theta, phi, epsilon, k. 2 consts: lam, m, 3 vars: cA2, cS, cO'}"
   ]
  },
  {
   "cell_type": "code",
   "execution_count": 3,
   "metadata": {},
   "outputs": [],
   "source": [
    "#parameters\n",
    "rs_ac, rds_ac, rs, rds, ro, k = 1450, 75, 11, 300, 1e3, 10\n",
    "rext = 12.6\n",
    "lam, m = 0.11, 2\n",
    "td1, td2 = 0.01, 0.03\n",
    "\n",
    "#Definition of the model\n",
    "alpha, beta, theta, phi, ep = rs_ac / rext, rds_ac / rext, rs / rext, rds / rext, ro / rext\n",
    "params = np.array([alpha, beta, theta, phi, ep, k])\n",
    "consts = np.array([lam, m])\n",
    "delay = np.array([td1, td2])\n",
    "init_cond = np.array([0, 0, 0])\n",
    "model = delayed_oscillation(delayed_full_first_order_consumeO, delay=delay, params=params, consts=consts, init_cond=init_cond)"
   ]
  },
  {
   "cell_type": "code",
   "execution_count": 5,
   "metadata": {},
   "outputs": [
    {
     "data": {
      "application/vnd.jupyter.widget-view+json": {
       "model_id": "86253b207d0a4373a9bd49e03bc5109f",
       "version_major": 2,
       "version_minor": 0
      },
      "text/plain": [
       "interactive(children=(FloatSlider(value=115.07936507936508, description='alpha', max=315.07936507936506, step=…"
      ]
     },
     "metadata": {},
     "output_type": "display_data"
    }
   ],
   "source": [
    "model.interactive_plot(t=5, nvars=3, ran=200)"
   ]
  },
  {
   "cell_type": "code",
   "execution_count": null,
   "metadata": {},
   "outputs": [],
   "source": []
  }
 ],
 "metadata": {
  "kernelspec": {
   "display_name": "Python 3",
   "language": "python",
   "name": "python3"
  },
  "language_info": {
   "codemirror_mode": {
    "name": "ipython",
    "version": 3
   },
   "file_extension": ".py",
   "mimetype": "text/x-python",
   "name": "python",
   "nbconvert_exporter": "python",
   "pygments_lexer": "ipython3",
   "version": "3.10.16"
  }
 },
 "nbformat": 4,
 "nbformat_minor": 2
}
